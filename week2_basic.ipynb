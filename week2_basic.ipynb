{
  "nbformat": 4,
  "nbformat_minor": 0,
  "metadata": {
    "colab": {
      "name": "week2-basic.ipynb",
      "provenance": [],
      "authorship_tag": "ABX9TyOBI9JHkFEEWwUP714QCVTm"
    },
    "kernelspec": {
      "name": "python3",
      "display_name": "Python 3"
    }
  },
  "cells": [
    {
      "cell_type": "markdown",
      "metadata": {
        "id": "bsgp56_yEGjj",
        "colab_type": "text"
      },
      "source": [
        "## Basic Algorithms\n",
        "  a. Sorting Algorithms\n",
        "    <br> ***1. Insertion Sort*** <br>\n",
        "    Insertion Sort is a sorting algorithm where the array is sorted by taking one element at a time. The principle behind insertion sort is to take one element, iterate through the sorted array & find its correct position in the sorted array.Insertion Sort works in a similar manner as we arrange a deck of cards."
      ]
    },
    {
      "cell_type": "code",
      "metadata": {
        "id": "-zic1oH3EFOU",
        "colab_type": "code",
        "colab": {}
      },
      "source": [
        "# Insertion Sort\n",
        "# Defining function of insertion sort\n",
        "def insertion(arr):\n",
        "  t0 =time.clock()\n",
        "  for i in range(1, len(arr)):\n",
        "      key = arr[i]\n",
        "      j = i-1\n",
        "      while j >=0 and key < arr[j] :\n",
        "         arr[j+1] = arr[j]\n",
        "         j -= 1\n",
        "      arr[j+1] = key\n",
        "  t1 = time.clock()\n",
        "  return arr, t1-t0"
      ],
      "execution_count": 0,
      "outputs": []
    },
    {
      "cell_type": "code",
      "metadata": {
        "id": "7EVC_aK_FKYQ",
        "colab_type": "code",
        "colab": {
          "base_uri": "https://localhost:8080/",
          "height": 50
        },
        "outputId": "f55d8023-8692-4331-f04d-e8e4b1159628"
      },
      "source": [
        "li= list(map(int,input().split()))\n",
        "print(insertion(li))"
      ],
      "execution_count": 44,
      "outputs": [
        {
          "output_type": "stream",
          "text": [
            "2 4 88 11 0\n",
            "([0, 2, 4, 11, 88], 9.999999974752427e-06)\n"
          ],
          "name": "stdout"
        }
      ]
    },
    {
      "cell_type": "markdown",
      "metadata": {
        "id": "xtFdiI0kG3As",
        "colab_type": "text"
      },
      "source": [
        "***2. Heap Sort***\n",
        "<br> Heap sort is based on binary heap data structure.<br>\n",
        "Algo in my words - 1. Initially, we will ask the user to enter that is to be sorted.\n",
        "2. Once, the array is received we need to create a heap of the numbers received from the array to sort them in ascending order.\n",
        "3. Now, we need to create a max heap out of that heap. There’s one rule that has to be followed to create a max heap, i.e the value of the parent node should be the value of its children nodes.\n",
        "4. After the tree is created we need to check for the above condition. If, the value of the child node is greater than the parent node we need to swap their values and check once again until the condition mentioned in step 3 is specified.\n",
        "5. Once the condition is satisfied and all the elements are arranged accordingly. We need to swap the root node with the last node.\n",
        "6.After swapping, remove the last node from the heap. We are removing it as it has been sorted.\n",
        "Repeat steps 4, 5, and 6 until there’s one element left in the heap."
      ]
    },
    {
      "cell_type": "code",
      "metadata": {
        "id": "3Vr8MvmIFYO3",
        "colab_type": "code",
        "colab": {}
      },
      "source": [
        "# heapify\n",
        "def heapify(arr, n, i):\n",
        "   largest = i # largest value\n",
        "   l = 2 * i + 1 # left\n",
        "   r = 2 * i + 2 # right\n",
        "   # if left child exists\n",
        "   if l < n and arr[i] < arr[l]:\n",
        "      largest = l\n",
        "   # if right child exits\n",
        "   if r < n and arr[largest] < arr[r]:\n",
        "      largest = r\n",
        "   # root\n",
        "   if largest != i:\n",
        "      arr[i],arr[largest] = arr[largest],arr[i] \n",
        "      heapify(arr, n, largest)\n",
        "# sort\n",
        "def heapSort(arr):\n",
        "   n = len(arr)\n",
        "   t0= time.time()\n",
        "   # maxheap\n",
        "   for i in range(n, -1, -1):\n",
        "      heapify(arr, n, i)\n",
        "   # element extraction\n",
        "   for i in range(n-1, 0, -1):\n",
        "      arr[i], arr[0] = arr[0], arr[i] # swap\n",
        "      heapify(arr, i, 0)\n",
        "   t1=time.time()\n",
        "   return arr, t1-t0"
      ],
      "execution_count": 0,
      "outputs": []
    },
    {
      "cell_type": "code",
      "metadata": {
        "id": "7mquG8ngHzjI",
        "colab_type": "code",
        "colab": {
          "base_uri": "https://localhost:8080/",
          "height": 50
        },
        "outputId": "7686f327-033b-483a-ad8f-372d72d7268c"
      },
      "source": [
        "li= list(map(int,input().split()))\n",
        "print(heapSort(li))"
      ],
      "execution_count": 46,
      "outputs": [
        {
          "output_type": "stream",
          "text": [
            "2 3 4 11 3 3 \n",
            "([2, 3, 3, 3, 4, 11], 1.430511474609375e-05)\n"
          ],
          "name": "stdout"
        }
      ]
    },
    {
      "cell_type": "markdown",
      "metadata": {
        "id": "DO9nTTrQJr8T",
        "colab_type": "text"
      },
      "source": [
        "**3. Merge Sort**<br>\n",
        "Brief:\n",
        "Merge Sort is based on the divide and conquer algorithm where the input array is divided into two halves, then sorted separately and merged back to reach the solution. The function merge() is used for merging the sorted arrays.\n",
        "\n",
        "The Divide and Conquer approach-\n",
        "The array is split in half and the process is repeated with each half until each half is of size 1 or 0. \n",
        "The array of size 1 is trivially sorted.\n",
        "Now the two sorted arrays are combined into one big array. And this is continued until all the elements are combined and the array is sorted. "
      ]
    },
    {
      "cell_type": "code",
      "metadata": {
        "id": "5H3bOxzxIQu0",
        "colab_type": "code",
        "colab": {
          "base_uri": "https://localhost:8080/",
          "height": 34
        },
        "outputId": "734bccf4-72d6-42df-cf1a-98c8ef058abb"
      },
      "source": [
        "# Merge Sort\n",
        "def mergeSort(nlist):\n",
        "    # print(\"Splitting \",nlist)\n",
        "    t0 = time.time()\n",
        "    if len(nlist)>1:\n",
        "        mid = len(nlist)//2\n",
        "        lefthalf = nlist[:mid]\n",
        "        righthalf = nlist[mid:]\n",
        " \n",
        "        mergeSort(lefthalf)\n",
        "        mergeSort(righthalf)\n",
        "        i=j=k=0      \n",
        "        while i < len(lefthalf) and j < len(righthalf):\n",
        "            if lefthalf[i] < righthalf[j]:\n",
        "                nlist[k]=lefthalf[i]\n",
        "                i=i+1\n",
        "            else:\n",
        "                nlist[k]=righthalf[j]\n",
        "                j=j+1\n",
        "            k=k+1\n",
        " \n",
        "        while i < len(lefthalf):\n",
        "            nlist[k]=lefthalf[i]\n",
        "            i=i+1\n",
        "            k=k+1\n",
        " \n",
        "        while j < len(righthalf):\n",
        "            nlist[k]=righthalf[j]\n",
        "            j=j+1\n",
        "            k=k+1\n",
        "    # print(\"Merging \",nlist)\n",
        "    t1=time.time()\n",
        "    return nlist, t1-t0\n",
        "nlist = [3,1,4,1,5,9,2,6,5,4]\n",
        "print(mergeSort(nlist))\n",
        "# print(nlist)"
      ],
      "execution_count": 55,
      "outputs": [
        {
          "output_type": "stream",
          "text": [
            "([1, 1, 2, 3, 4, 4, 5, 5, 6, 9], 2.574920654296875e-05)\n"
          ],
          "name": "stdout"
        }
      ]
    },
    {
      "cell_type": "markdown",
      "metadata": {
        "id": "46EzZqVYMFWz",
        "colab_type": "text"
      },
      "source": [
        "***4. Bubble Sort*** <br>\n",
        "Bubble sort is also known as sinking sort. It is a simple sorting algorithm that continuously steps through the list to be sorted, comparing each pair of adjacent items and swapping them if they are not in the correct order. The steps are repeated until no more swaps are needed, which is when the list is sorted.\n",
        "\n",
        "Steps for performing a Bubble Sort <br>\n",
        "1.Compare first and second element in the list and swap if they are in the wrong order.<br>\n",
        "2.Compare second and third element and swap them if they are in the wrong order.<br>\n",
        "3.Proceed similarly until the last element of the list in a similar fashion.<br>\n",
        "4.Keep repeating all of the above steps until the list is sorted."
      ]
    },
    {
      "cell_type": "code",
      "metadata": {
        "id": "W5WlVuHlL0JV",
        "colab_type": "code",
        "colab": {}
      },
      "source": [
        "#Bubble Sort\n",
        "def bubble(arr):\n",
        "    t0= time.time()\n",
        "    n = len(arr) \n",
        "    # Traverse through all array elements \n",
        "    for i in range(n): \n",
        "        # Last i elements are already in place \n",
        "        for j in range(0, n-i-1): \n",
        "            # traverse the array from 0 to n-i-1 \n",
        "            # Swap if the element found is greater \n",
        "            # than the next element \n",
        "            if arr[j] > arr[j+1] :\n",
        "              arr[j], arr[j+1] = arr[j+1], arr[j]\n",
        "    t1=time.time()\n",
        "    return arr, t1-t0\n",
        "  "
      ],
      "execution_count": 0,
      "outputs": []
    },
    {
      "cell_type": "code",
      "metadata": {
        "id": "0audOUmXNlan",
        "colab_type": "code",
        "colab": {
          "base_uri": "https://localhost:8080/",
          "height": 34
        },
        "outputId": "9cbf4e39-6f3f-4af9-e530-382b02d50ff3"
      },
      "source": [
        "print(bubble([89, 7, 5 , 30, 45]))"
      ],
      "execution_count": 51,
      "outputs": [
        {
          "output_type": "stream",
          "text": [
            "([5, 7, 30, 45, 89], 8.58306884765625e-06)\n"
          ],
          "name": "stdout"
        }
      ]
    },
    {
      "cell_type": "code",
      "metadata": {
        "id": "fv4CVjO7N2em",
        "colab_type": "code",
        "colab": {}
      },
      "source": [
        ""
      ],
      "execution_count": 0,
      "outputs": []
    },
    {
      "cell_type": "markdown",
      "metadata": {
        "id": "gLp9VHEmQtRY",
        "colab_type": "text"
      },
      "source": [
        "# b. Binary Search <br>\n",
        "1. Compare x with the middle element.\n",
        "2. If x matches with middle element, we return the mid index.\n",
        "3. Else If x is greater than the mid element, then x can only lie in right half subarray after the mid element. So we recur for right half.\n",
        "4. Else (x is smaller) recur for the left half."
      ]
    },
    {
      "cell_type": "code",
      "metadata": {
        "id": "rtn58pNGQwSj",
        "colab_type": "code",
        "colab": {
          "base_uri": "https://localhost:8080/",
          "height": 84
        },
        "outputId": "cd607945-231a-4f73-bde6-4bfa859e508d"
      },
      "source": [
        "def binarySearch (arr, l, r, x): \n",
        "  t0=time.time()\n",
        "\t# Check base case \n",
        "\tif r >= l: \n",
        "\n",
        "\t\tmid = l + (r - l) // 2\n",
        "\n",
        "\t\t# If element is present at the middle itself \n",
        "\t\tif arr[mid] == x: \n",
        "\t\t\treturn mid \n",
        "\t\t\n",
        "\t\t# If element is smaller than mid, then it \n",
        "\t\t# can only be present in left subarray \n",
        "\t\telif arr[mid] > x: \n",
        "\t\t\treturn binarySearch(arr, l, mid-1, x) \n",
        "\n",
        "\t\t# Else the element can only be present \n",
        "\t\t# in right subarray \n",
        "\t\telse: \n",
        "\t\t\treturn binarySearch(arr, mid + 1, r, x) \n",
        "\n",
        "\telse: \n",
        "\t\t# Element is not present in the array \n",
        "\t\treturn -1\n",
        "\n",
        "\n",
        "arr = list(map(int,input().split()))\n",
        "x = int(input(print(\"Enter number\")))\n",
        "\n",
        "result = binarySearch(arr, 0, len(arr)-1, x) \n",
        "\n",
        "if result != -1: \n",
        "\tprint (\"Element is present at index % d\" % result) \n",
        "else: \n",
        "\tprint (\"Element is not present in array\") \n"
      ],
      "execution_count": 32,
      "outputs": [
        {
          "output_type": "stream",
          "text": [
            "1 2 3 4 5 6\n",
            "Enter number\n",
            "3\n",
            "Element is present at index  2\n"
          ],
          "name": "stdout"
        }
      ]
    },
    {
      "cell_type": "markdown",
      "metadata": {
        "id": "EpcSE4x837Iu",
        "colab_type": "text"
      },
      "source": [
        "##Task C"
      ]
    },
    {
      "cell_type": "code",
      "metadata": {
        "id": "6DcjUBmK5QRm",
        "colab_type": "code",
        "colab": {}
      },
      "source": [
        "import time\n",
        "import random"
      ],
      "execution_count": 0,
      "outputs": []
    },
    {
      "cell_type": "code",
      "metadata": {
        "id": "ds8YWIhAuMM7",
        "colab_type": "code",
        "colab": {}
      },
      "source": [
        "def check(li):\n",
        "  lst,ti = insertion(li)\n",
        "  print(\"Insertion sort:\",ti)\n",
        "  lst,ti = heapSort(li)\n",
        "  print(\"Heap sort:\",ti)\n",
        "  lst,ti = mergeSort(li)\n",
        "  print(\"Merge sort:\",ti)\n",
        "  lst,ti = bubble(li)\n",
        "  print(\"Bubble sort:\",ti)\n"
      ],
      "execution_count": 0,
      "outputs": []
    },
    {
      "cell_type": "code",
      "metadata": {
        "id": "obvl-knH5afC",
        "colab_type": "code",
        "colab": {
          "base_uri": "https://localhost:8080/",
          "height": 84
        },
        "outputId": "319b715a-a63f-4d94-ad3a-5be2786153c9"
      },
      "source": [
        "randomlist = []\n",
        "randomlist = random.sample(range(0,10**5), 10**5)\n",
        "check(randomlist)"
      ],
      "execution_count": 58,
      "outputs": [
        {
          "output_type": "stream",
          "text": [
            "Insertion sort: 359.31545900000003\n",
            "Heap sort: 0.7605693340301514\n",
            "Merge sort: 0.47431349754333496\n",
            "Bubble sort: 449.4154074192047\n"
          ],
          "name": "stdout"
        }
      ]
    },
    {
      "cell_type": "markdown",
      "metadata": {
        "id": "o63lJMOjF5SS",
        "colab_type": "text"
      },
      "source": [
        "## **TASK 2** <br>\n",
        "[link text](https://www.codechef.com/users/zenith_expo)"
      ]
    }
  ]
}